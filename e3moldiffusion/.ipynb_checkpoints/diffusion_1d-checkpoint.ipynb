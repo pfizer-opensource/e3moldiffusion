{
 "cells": [
  {
   "cell_type": "code",
   "execution_count": 1,
   "id": "086bbc7d",
   "metadata": {},
   "outputs": [],
   "source": [
    "import numpy as np\n",
    "import torch\n",
    "import matplotlib.pyplot as plt"
   ]
  },
  {
   "cell_type": "code",
   "execution_count": 2,
   "id": "91203042",
   "metadata": {},
   "outputs": [],
   "source": [
    "mean0 = -5.0\n",
    "mean1 = 5.0"
   ]
  },
  {
   "cell_type": "code",
   "execution_count": 21,
   "id": "335c5f84",
   "metadata": {},
   "outputs": [],
   "source": [
    "x0 = np.random.normal(loc=mean0, scale=1.0, size=(200,))\n",
    "x1 = np.random.normal(loc=mean1, scale=1.0, size=(200,))"
   ]
  },
  {
   "cell_type": "code",
   "execution_count": 29,
   "id": "d91ade31",
   "metadata": {},
   "outputs": [],
   "source": [
    "dataset = np.concatenate([x0, x1], axis=0)"
   ]
  },
  {
   "cell_type": "code",
   "execution_count": 30,
   "id": "1e28f0d9",
   "metadata": {},
   "outputs": [
    {
     "data": {
      "text/plain": [
       "array([-5.59807046, -4.81757388, -4.82282035, -4.8829602 , -4.83760261,\n",
       "       -6.8124403 , -6.10895242, -4.19379295, -5.32969763, -5.85600978,\n",
       "       -3.6572752 , -5.28130665, -5.86987354, -5.21028439, -5.24864087,\n",
       "       -5.45715897, -3.3952509 , -4.36446412, -6.09991628, -4.70709584,\n",
       "       -5.29898785, -5.09436611, -5.00601553, -3.52723863, -4.26148477,\n",
       "       -5.44053969, -3.74867971, -4.32875947, -4.98859814, -4.5233555 ,\n",
       "       -2.89201371, -5.92040126, -3.27002723, -6.79348491, -4.75456109,\n",
       "       -4.83622666, -3.58207819, -5.54784767, -3.95714879, -3.83005452,\n",
       "       -4.7879585 , -5.22344052, -5.36706056, -4.47155233, -4.49618068,\n",
       "       -6.89384858, -4.79804884, -6.99633176, -5.11375478, -5.05484593,\n",
       "       -4.43427353, -5.40641223, -5.11385601, -6.1247753 , -5.15649499,\n",
       "       -4.46404207, -6.12881611, -4.68313527, -4.44919811, -5.70379153,\n",
       "       -5.53566587, -5.15503719, -6.73487418, -7.16151545, -3.90296356,\n",
       "       -5.04611359, -5.10888096, -4.62917566, -5.0389117 , -5.4520061 ,\n",
       "       -4.15338939, -3.7307305 , -5.79985637, -4.85610068, -7.13890545,\n",
       "       -4.24498552, -4.36386563, -4.86125978, -5.15049254, -5.33104214,\n",
       "       -5.40160105, -4.79571861, -3.88931306, -5.21422943, -4.53221973,\n",
       "       -5.6687778 , -3.39756091, -5.48688892, -6.26531955, -4.80776555,\n",
       "       -5.4102857 , -7.04425706, -5.78076733, -4.71855062, -3.91807062,\n",
       "       -3.92173414, -2.56096064, -6.45264174, -5.03820747, -5.14604737,\n",
       "       -4.85538185, -5.57797724, -5.06443607, -4.29345934, -4.48827062,\n",
       "       -4.77388744, -4.81495449, -4.63447844, -6.84783967, -5.91909458,\n",
       "       -6.89863023, -4.51165293, -5.24910103, -6.41250141, -5.61554297,\n",
       "       -4.49598737, -4.21909504, -6.12261684, -4.13409716, -6.2607204 ,\n",
       "       -5.60836688, -7.48376358, -4.38256028, -6.46181675, -4.67907062,\n",
       "       -6.98857645, -5.62319009, -5.74482569, -4.94529328, -5.90797928,\n",
       "       -6.39230012, -4.91277373, -4.84034213, -4.37875852, -6.70003771,\n",
       "       -5.06802009, -4.50785986, -6.03076387, -4.76827679, -5.37949368,\n",
       "       -4.94429619, -5.52319163, -5.26486538, -6.08067122, -5.64141667,\n",
       "       -4.41480808, -3.57418818, -5.36750692, -3.98304212, -5.13650944,\n",
       "       -4.06342506, -4.49758036, -6.91463654, -4.82054235, -5.45163613,\n",
       "       -5.0428844 , -6.32566955, -5.18824516, -5.11786508, -5.74308907,\n",
       "       -5.88887857, -5.71458887, -4.54452708, -4.33889741, -3.49660302,\n",
       "       -4.04727774, -5.56349888, -5.93750765, -4.64318798, -5.75031064,\n",
       "       -4.25664342, -5.69625842, -6.77095757, -5.00971146, -5.48990187,\n",
       "       -4.8038189 , -4.70509098, -6.29823553, -5.00510136, -6.06701319,\n",
       "       -4.92838411, -5.11493723, -4.37392914, -5.96808907, -4.41784994,\n",
       "       -6.25098224, -4.88721167, -5.92379828, -4.61519193, -6.44890985,\n",
       "       -4.56292477, -4.93276438, -4.12515343, -5.25679854, -4.69697994,\n",
       "       -5.96773551, -4.77185706, -5.80405542, -4.30965416, -4.48051555,\n",
       "        4.32588603,  3.98324506,  5.93161737,  6.04277674,  5.38778838,\n",
       "        5.03168844,  4.28971964,  5.54205834,  4.59153593,  4.12886098,\n",
       "        4.42777666,  5.07959559,  7.01944142,  5.52431351,  5.91268631,\n",
       "        4.23587319,  4.30363675,  5.3930603 ,  4.4449351 ,  5.28298004,\n",
       "        4.62678549,  5.13412758,  5.78809773,  5.84607338,  3.72485837,\n",
       "        4.48726268,  5.8688697 ,  6.53503516,  4.86203808,  7.43081402,\n",
       "        6.13154631,  5.2066334 ,  6.9793857 ,  4.7244939 ,  6.4482406 ,\n",
       "        5.17987018,  5.1157332 ,  5.02048847,  5.47769521,  5.23707885,\n",
       "        3.49447   ,  5.8942516 ,  5.0675302 ,  3.98727162,  4.29946511,\n",
       "        3.75355786,  5.35024676,  3.70918446,  5.56767252,  5.00763009,\n",
       "        4.59141791,  3.33411207,  3.8476    ,  3.11379664,  4.59357023,\n",
       "        4.80349248,  5.89144884,  4.86940431,  5.79705173,  5.50705356,\n",
       "        5.34946432,  4.99807809,  3.78756246,  4.45439182,  4.44598504,\n",
       "        4.97773303,  5.53830338,  4.63659124,  5.19049158,  3.54214813,\n",
       "        4.9020751 ,  6.13040381,  4.95497449,  5.65842938,  6.27677217,\n",
       "        4.78719024,  3.44650046,  7.46120453,  4.42360043,  5.09590448,\n",
       "        5.30359703,  6.43057977,  6.64633229,  4.33561238,  5.65550434,\n",
       "        3.92200915,  5.03083047,  5.58470007,  5.18590483,  5.1669435 ,\n",
       "        4.58482493,  4.69775536,  5.91000613,  5.11004135,  3.65133281,\n",
       "        4.73277301,  6.44156897,  3.811089  ,  3.2656504 ,  4.98034656,\n",
       "        5.10163412,  4.57571901,  3.99750156,  4.48700362,  7.43582906,\n",
       "        5.63318946,  7.33561527,  5.33089446,  4.60179215,  4.92313528,\n",
       "        4.38925557,  5.56861441,  4.9307168 ,  3.47264995,  5.68680645,\n",
       "        4.46248745,  6.77848146,  5.23483495,  6.44307218,  5.7018857 ,\n",
       "        4.27862099,  5.28121041,  4.78956435,  3.88232017,  3.51609681,\n",
       "        4.6483467 ,  3.64500929,  5.29629474,  6.4097163 ,  3.93514688,\n",
       "        4.21711188,  4.46009179,  4.33479571,  4.62443915,  5.10131298,\n",
       "        6.20229072,  6.21893144,  4.30690177,  4.52190974,  4.57939942,\n",
       "        4.58462889,  4.74994892,  4.26683743,  4.99595369,  6.57972784,\n",
       "        5.4220498 ,  5.15670245,  5.78083161,  3.88874797,  4.71580533,\n",
       "        5.45950385,  4.37098468,  3.71543922,  6.32335519,  5.36531555,\n",
       "        7.00210875,  5.1256359 ,  4.21279797,  3.42207895,  3.51670448,\n",
       "        4.53452654,  5.24154699,  4.1189657 ,  5.30413435,  6.16877346,\n",
       "        5.03555814,  5.23763458,  6.81961449,  6.35469003,  5.82410244,\n",
       "        4.50933835,  4.11346793,  5.21950593,  5.27989081,  4.63333575,\n",
       "        4.81969593,  4.69373302,  6.87670413,  5.20480443,  4.44374124,\n",
       "        5.55288459,  4.29408007,  4.25401422,  4.67256188,  6.55088327,\n",
       "        3.36799088,  4.17195551,  3.79086303,  4.37337499,  5.17586871,\n",
       "        4.07667759,  5.8013252 ,  4.93152249,  3.78400225,  3.89885902,\n",
       "        4.42085984,  4.57400457,  3.99083927,  5.80271366,  4.08304715])"
      ]
     },
     "execution_count": 30,
     "metadata": {},
     "output_type": "execute_result"
    }
   ],
   "source": [
    "dataset"
   ]
  },
  {
   "cell_type": "code",
   "execution_count": 31,
   "id": "0d2f7119",
   "metadata": {},
   "outputs": [
    {
     "data": {
      "text/plain": [
       "(array([13., 20., 50., 71., 35.,  9.,  2.,  0.,  0.,  0.,  0.,  0.,  0.,\n",
       "         0., 16., 47., 63., 46., 18., 10.]),\n",
       " array([-7.48376358, -6.73651518, -5.98926677, -5.24201837, -4.49476996,\n",
       "        -3.74752155, -3.00027315, -2.25302474, -1.50577634, -0.75852793,\n",
       "        -0.01127953,  0.73596888,  1.48321728,  2.23046569,  2.97771409,\n",
       "         3.7249625 ,  4.4722109 ,  5.21945931,  5.96670772,  6.71395612,\n",
       "         7.46120453]),\n",
       " <BarContainer object of 20 artists>)"
      ]
     },
     "execution_count": 31,
     "metadata": {},
     "output_type": "execute_result"
    },
    {
     "data": {
      "image/png": "[encoded data removed]",
      "text/plain": [
       "<Figure size 432x288 with 1 Axes>"
      ]
     },
     "metadata": {
      "needs_background": "light"
     },
     "output_type": "display_data"
    }
   ],
   "source": [
    "plt.hist(dataset, bins=20)"
   ]
  },
  {
   "cell_type": "code",
   "execution_count": 25,
   "id": "441518a8",
   "metadata": {},
   "outputs": [],
   "source": [
    "from e3moldiffusion.sde import VPSDE, DiscreteDDPM"
   ]
  },
  {
   "cell_type": "code",
   "execution_count": 47,
   "id": "f16eb1a6",
   "metadata": {},
   "outputs": [],
   "source": [
    "sde = DiscreteDDPM(N=1000, schedule=\"linear\")"
   ]
  },
  {
   "cell_type": "code",
   "execution_count": 56,
   "id": "9261dcf1",
   "metadata": {},
   "outputs": [],
   "source": [
    "t = torch.arange(0, 1000)\n",
    "dataset_torch = torch.from_numpy(dataset).float()"
   ]
  },
  {
   "cell_type": "code",
   "execution_count": 57,
   "id": "9864b6ff",
   "metadata": {},
   "outputs": [],
   "source": [
    "def get_next_step(x_t, t, scheduler):\n",
    "    mean, std  = scheduler.alphas[t], scheduler.sqrt_betas[t]\n",
    "    noise = torch.randn_like(x_t)\n",
    "    xtp1 = mean.unsqueeze(-1) * x_t + std.unsqueeze(-1) * noise\n",
    "    return xtp1"
   ]
  },
  {
   "cell_type": "code",
   "execution_count": 58,
   "id": "215137c8",
   "metadata": {},
   "outputs": [],
   "source": [
    "subset = [0, 399]"
   ]
  },
  {
   "cell_type": "code",
   "execution_count": 59,
   "id": "8ecc3162",
   "metadata": {},
   "outputs": [],
   "source": [
    "x0 = dataset_torch[subset].unsqueeze(-1)"
   ]
  },
  {
   "cell_type": "code",
   "execution_count": 60,
   "id": "c6dcb5fe",
   "metadata": {},
   "outputs": [
    {
     "data": {
      "text/plain": [
       "tensor([[-5.5981],\n",
       "        [ 4.0830]])"
      ]
     },
     "execution_count": 60,
     "metadata": {},
     "output_type": "execute_result"
    }
   ],
   "source": [
    "x0"
   ]
  },
  {
   "cell_type": "code",
   "execution_count": 61,
   "id": "9733e64c",
   "metadata": {},
   "outputs": [
    {
     "data": {
      "text/plain": [
       "torch.Size([2, 1])"
      ]
     },
     "execution_count": 61,
     "metadata": {},
     "output_type": "execute_result"
    }
   ],
   "source": [
    "x0.shape"
   ]
  },
  {
   "cell_type": "code",
   "execution_count": 62,
   "id": "9c014839",
   "metadata": {},
   "outputs": [
    {
     "data": {
      "text/plain": [
       "torch.Size([2000])"
      ]
     },
     "execution_count": 62,
     "metadata": {},
     "output_type": "execute_result"
    }
   ],
   "source": [
    "tt.shape"
   ]
  },
  {
   "cell_type": "code",
   "execution_count": 64,
   "id": "b6521997",
   "metadata": {},
   "outputs": [],
   "source": [
    "trajs = [x0]\n",
    "xt = xtp1 = x0\n",
    "for timestep in t:\n",
    "    tt = timestep.repeat_interleave(2)\n",
    "    xtp1 = get_next_step(xt, tt, sde)\n",
    "    trajs.append(xtp1)\n",
    "    xt = xtp1"
   ]
  },
  {
   "cell_type": "code",
   "execution_count": 63,
   "id": "fb706d87",
   "metadata": {},
   "outputs": [
    {
     "data": {
      "text/plain": [
       "tensor(0)"
      ]
     },
     "execution_count": 63,
     "metadata": {},
     "output_type": "execute_result"
    }
   ],
   "source": [
    "timestep"
   ]
  },
  {
   "cell_type": "code",
   "execution_count": null,
   "id": "30459d94",
   "metadata": {},
   "outputs": [],
   "source": []
  }
 ],
 "metadata": {
  "kernelspec": {
   "display_name": "Python 3 (ipykernel)",
   "language": "python",
   "name": "python3"
  },
  "language_info": {
   "codemirror_mode": {
    "name": "ipython",
    "version": 3
   },
   "file_extension": ".py",
   "mimetype": "text/x-python",
   "name": "python",
   "nbconvert_exporter": "python",
   "pygments_lexer": "ipython3",
   "version": "3.9.0"
  }
 },
 "nbformat": 4,
 "nbformat_minor": 5
}
