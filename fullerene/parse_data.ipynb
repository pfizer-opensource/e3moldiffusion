{
 "cells": [
  {
   "cell_type": "code",
   "execution_count": 14,
   "metadata": {},
   "outputs": [],
   "source": [
    "from rdkit import Chem\n",
    "from rdkit.Chem import AllChem\n",
    "from io import StringIO\n",
    "from rdkit.Chem.Draw import IPythonConsole\n",
    "import matplotlib.pyplot as plt"
   ]
  },
  {
   "cell_type": "code",
   "execution_count": 2,
   "metadata": {},
   "outputs": [],
   "source": [
    "from openbabel import pybel"
   ]
  },
  {
   "cell_type": "code",
   "execution_count": 3,
   "metadata": {},
   "outputs": [
    {
     "data": {
      "text/plain": [
       "{'abinit': 'ABINIT Output Format',\n",
       " 'acesout': 'ACES output format',\n",
       " 'acr': 'ACR format',\n",
       " 'adfband': 'ADF Band output format',\n",
       " 'adfdftb': 'ADF DFTB output format',\n",
       " 'adfout': 'ADF output format',\n",
       " 'alc': 'Alchemy format',\n",
       " 'aoforce': 'Turbomole AOFORCE output format',\n",
       " 'arc': 'Accelrys/MSI Biosym/Insight II CAR format',\n",
       " 'axsf': 'XCrySDen Structure Format',\n",
       " 'bgf': 'MSI BGF format',\n",
       " 'box': 'Dock 3.5 Box format',\n",
       " 'bs': 'Ball and Stick format',\n",
       " 'c09out': 'Crystal 09 output format',\n",
       " 'c3d1': 'Chem3D Cartesian 1 format',\n",
       " 'c3d2': 'Chem3D Cartesian 2 format',\n",
       " 'caccrt': 'Cacao Cartesian format',\n",
       " 'can': 'Canonical SMILES format',\n",
       " 'car': 'Accelrys/MSI Biosym/Insight II CAR format',\n",
       " 'castep': 'CASTEP format',\n",
       " 'ccc': 'CCC format',\n",
       " 'cdjson': 'ChemDoodle JSON',\n",
       " 'cdx': 'ChemDraw binary format',\n",
       " 'cdxml': 'ChemDraw CDXML format',\n",
       " 'cif': 'Crystallographic Information File',\n",
       " 'ck': 'ChemKin format',\n",
       " 'cml': 'Chemical Markup Language',\n",
       " 'cmlr': 'CML Reaction format',\n",
       " 'cof': 'Culgi object file format',\n",
       " 'CONFIG': 'DL-POLY CONFIG',\n",
       " 'CONTCAR': 'VASP format',\n",
       " 'CONTFF': 'MDFF format',\n",
       " 'crk2d': 'Chemical Resource Kit diagram(2D)',\n",
       " 'crk3d': 'Chemical Resource Kit 3D format',\n",
       " 'ct': 'ChemDraw Connection Table format',\n",
       " 'cub': 'Gaussian cube format',\n",
       " 'cube': 'Gaussian cube format',\n",
       " 'dallog': 'DALTON output format',\n",
       " 'dalmol': 'DALTON input format',\n",
       " 'dat': 'Generic Output file format',\n",
       " 'dmol': 'DMol3 coordinates format',\n",
       " 'dx': 'OpenDX cube format for APBS',\n",
       " 'ent': 'Protein Data Bank format',\n",
       " 'exyz': 'Extended XYZ cartesian coordinates format',\n",
       " 'fa': 'FASTA format',\n",
       " 'fasta': 'FASTA format',\n",
       " 'fch': 'Gaussian formatted checkpoint file format',\n",
       " 'fchk': 'Gaussian formatted checkpoint file format',\n",
       " 'fck': 'Gaussian formatted checkpoint file format',\n",
       " 'feat': 'Feature format',\n",
       " 'fhiaims': 'FHIaims XYZ format',\n",
       " 'fract': 'Free Form Fractional format',\n",
       " 'fs': 'Fastsearch format',\n",
       " 'fsa': 'FASTA format',\n",
       " 'g03': 'Gaussian Output',\n",
       " 'g09': 'Gaussian Output',\n",
       " 'g16': 'Gaussian Output',\n",
       " 'g92': 'Gaussian Output',\n",
       " 'g94': 'Gaussian Output',\n",
       " 'g98': 'Gaussian Output',\n",
       " 'gal': 'Gaussian Output',\n",
       " 'gam': 'GAMESS Output',\n",
       " 'gamess': 'GAMESS Output',\n",
       " 'gamin': 'GAMESS Input',\n",
       " 'gamout': 'GAMESS Output',\n",
       " 'got': 'GULP format',\n",
       " 'gpr': 'Ghemical format',\n",
       " 'gro': 'GRO format',\n",
       " 'gukin': 'GAMESS-UK Input',\n",
       " 'gukout': 'GAMESS-UK Output',\n",
       " 'gzmat': 'Gaussian Z-Matrix Input',\n",
       " 'hin': 'HyperChem HIN format',\n",
       " 'HISTORY': 'DL-POLY HISTORY',\n",
       " 'inchi': 'InChI format',\n",
       " 'inp': 'GAMESS Input',\n",
       " 'ins': 'ShelX format',\n",
       " 'jin': 'Jaguar input format',\n",
       " 'jout': 'Jaguar output format',\n",
       " 'log': 'Generic Output file format',\n",
       " 'lpmd': 'LPMD format',\n",
       " 'mcdl': 'MCDL format',\n",
       " 'mcif': 'Macromolecular Crystallographic Info',\n",
       " 'MDFF': 'MDFF format',\n",
       " 'mdl': 'MDL MOL format',\n",
       " 'ml2': 'Sybyl Mol2 format',\n",
       " 'mmcif': 'Macromolecular Crystallographic Info',\n",
       " 'mmd': 'MacroModel format',\n",
       " 'mmod': 'MacroModel format',\n",
       " 'mol': 'MDL MOL format',\n",
       " 'mol2': 'Sybyl Mol2 format',\n",
       " 'mold': 'Molden format',\n",
       " 'molden': 'Molden format',\n",
       " 'molf': 'Molden format',\n",
       " 'moo': 'MOPAC Output format',\n",
       " 'mop': 'MOPAC Cartesian format',\n",
       " 'mopcrt': 'MOPAC Cartesian format',\n",
       " 'mopin': 'MOPAC Internal',\n",
       " 'mopout': 'MOPAC Output format',\n",
       " 'mpc': 'MOPAC Cartesian format',\n",
       " 'mpo': 'Molpro output format',\n",
       " 'mpqc': 'MPQC output format',\n",
       " 'mrv': 'Chemical Markup Language',\n",
       " 'msi': 'Accelrys/MSI Cerius II MSI format',\n",
       " 'nwo': 'NWChem output format',\n",
       " 'orca': 'ORCA output format',\n",
       " 'out': 'Generic Output file format',\n",
       " 'outmol': 'DMol3 coordinates format',\n",
       " 'output': 'Generic Output file format',\n",
       " 'pc': 'PubChem format',\n",
       " 'pcjson': 'PubChem JSON',\n",
       " 'pcm': 'PCModel Format',\n",
       " 'pdb': 'Protein Data Bank format',\n",
       " 'pdbqt': 'AutoDock PDBQT format',\n",
       " 'png': 'PNG 2D depiction',\n",
       " 'pos': 'POS cartesian coordinates format',\n",
       " 'POSCAR': 'VASP format',\n",
       " 'POSFF': 'MDFF format',\n",
       " 'pqr': 'PQR format',\n",
       " 'pqs': 'Parallel Quantum Solutions format',\n",
       " 'prep': 'Amber Prep format',\n",
       " 'pwscf': 'PWscf format',\n",
       " 'qcout': 'Q-Chem output format',\n",
       " 'res': 'ShelX format',\n",
       " 'rsmi': 'Reaction SMILES format',\n",
       " 'rxn': 'MDL RXN format',\n",
       " 'sd': 'MDL MOL format',\n",
       " 'sdf': 'MDL MOL format',\n",
       " 'siesta': 'SIESTA format',\n",
       " 'smi': 'SMILES format',\n",
       " 'smiles': 'SMILES format',\n",
       " 'smy': 'SMILES format using Smiley parser',\n",
       " 'sy2': 'Sybyl Mol2 format',\n",
       " 't41': 'ADF TAPE41 format',\n",
       " 'tdd': 'Thermo format',\n",
       " 'text': 'Read and write raw text',\n",
       " 'therm': 'Thermo format',\n",
       " 'tmol': 'TurboMole Coordinate format',\n",
       " 'txt': 'Title format',\n",
       " 'txyz': 'Tinker XYZ format',\n",
       " 'unixyz': 'UniChem XYZ format',\n",
       " 'VASP': 'VASP format',\n",
       " 'vmol': 'ViewMol format',\n",
       " 'wln': 'Wiswesser Line Notation',\n",
       " 'xml': 'General XML format',\n",
       " 'xsf': 'XCrySDen Structure Format',\n",
       " 'xyz': 'XYZ cartesian coordinates format',\n",
       " 'yob': 'YASARA.org YOB format'}"
      ]
     },
     "execution_count": 3,
     "metadata": {},
     "output_type": "execute_result"
    }
   ],
   "source": [
    "pybel.informats"
   ]
  },
  {
   "cell_type": "code",
   "execution_count": 4,
   "metadata": {},
   "outputs": [],
   "source": [
    "fname_xyz = \"/Users/tuanle/Desktop/projects/e3moldiffusion/catcher/data/Hexane/raw/geom1.xyz\"\n",
    "fname_frc = \"/Users/tuanle/Desktop/projects/e3moldiffusion/catcher/data/Hexane/raw/geom1.frx\"\n"
   ]
  },
  {
   "cell_type": "code",
   "execution_count": 5,
   "metadata": {},
   "outputs": [],
   "source": [
    "mol = next(pybel.readfile(\"xyz\", fname_xyz))"
   ]
  },
  {
   "cell_type": "code",
   "execution_count": 6,
   "metadata": {},
   "outputs": [
    {
     "data": {
      "image/svg+xml": "<svg xmlns=\"http://www.w3.org/2000/svg\" width=\"100\" height=\"100\" x=\"0\" y=\"0\" viewBox=\"0 0 705.217 574.221\" font-family=\"sans-serif\" stroke=\"rgb(0,0,0)\" stroke-width=\"2\" stroke-linecap=\"round\">\n<line x1=\"386.2\" y1=\"333.7\" x2=\"372.6\" y2=\"310.2\" opacity=\"1.0\" stroke=\"rgb(0,0,0)\" stroke-width=\"2.0\" />\n<line x1=\"319.0\" y1=\"333.7\" x2=\"332.6\" y2=\"310.2\" opacity=\"1.0\" stroke=\"rgb(0,0,0)\" stroke-width=\"2.0\" />\n<line x1=\"319.0\" y1=\"51.3\" x2=\"332.6\" y2=\"74.7\" opacity=\"1.0\" stroke=\"rgb(0,0,0)\" stroke-width=\"2.0\" />\n<line x1=\"386.2\" y1=\"51.3\" x2=\"372.6\" y2=\"74.7\" opacity=\"1.0\" stroke=\"rgb(0,0,0)\" stroke-width=\"2.0\" />\n<line x1=\"245.4\" y1=\"275.5\" x2=\"312.5\" y2=\"275.5\" opacity=\"1.0\" stroke=\"rgb(0,0,0)\" stroke-width=\"2.0\" />\n<line x1=\"392.7\" y1=\"275.5\" x2=\"459.8\" y2=\"275.5\" opacity=\"1.0\" stroke=\"rgb(0,0,0)\" stroke-width=\"2.0\" />\n<line x1=\"245.4\" y1=\"109.4\" x2=\"312.5\" y2=\"109.4\" opacity=\"1.0\" stroke=\"rgb(0,0,0)\" stroke-width=\"2.0\" />\n<line x1=\"392.7\" y1=\"109.4\" x2=\"459.8\" y2=\"109.4\" opacity=\"1.0\" stroke=\"rgb(0,0,0)\" stroke-width=\"2.0\" />\n<line x1=\"435.7\" y1=\"259.6\" x2=\"435.7\" y2=\"232.5\" opacity=\"1.0\" stroke=\"rgb(0,0,0)\" stroke-width=\"2.0\" />\n<line x1=\"269.5\" y1=\"259.6\" x2=\"269.5\" y2=\"232.5\" opacity=\"1.0\" stroke=\"rgb(0,0,0)\" stroke-width=\"2.0\" />\n<line x1=\"435.7\" y1=\"125.3\" x2=\"435.7\" y2=\"152.4\" opacity=\"1.0\" stroke=\"rgb(0,0,0)\" stroke-width=\"2.0\" />\n<line x1=\"269.5\" y1=\"152.4\" x2=\"269.5\" y2=\"125.3\" opacity=\"1.0\" stroke=\"rgb(0,0,0)\" stroke-width=\"2.0\" />\n<line x1=\"496.3\" y1=\"282.4\" x2=\"515.6\" y2=\"263.4\" opacity=\"1.0\" stroke=\"rgb(0,0,0)\" stroke-width=\"2.0\" />\n<line x1=\"208.9\" y1=\"282.4\" x2=\"189.6\" y2=\"263.4\" opacity=\"1.0\" stroke=\"rgb(0,0,0)\" stroke-width=\"2.0\" />\n<line x1=\"208.9\" y1=\"102.6\" x2=\"189.6\" y2=\"121.6\" opacity=\"1.0\" stroke=\"rgb(0,0,0)\" stroke-width=\"2.0\" />\n<line x1=\"51.3\" y1=\"473.1\" x2=\"74.6\" y2=\"459.6\" opacity=\"1.0\" stroke=\"rgb(0,0,0)\" stroke-width=\"2.0\" />\n<line x1=\"496.3\" y1=\"102.6\" x2=\"515.6\" y2=\"121.6\" opacity=\"1.0\" stroke=\"rgb(0,0,0)\" stroke-width=\"2.0\" />\n<line x1=\"74.6\" y1=\"486.6\" x2=\"74.6\" y2=\"459.6\" opacity=\"1.0\" stroke=\"rgb(0,0,0)\" stroke-width=\"2.0\" />\n<line x1=\"74.6\" y1=\"459.6\" x2=\"61.1\" y2=\"436.2\" opacity=\"1.0\" stroke=\"rgb(0,0,0)\" stroke-width=\"2.0\" />\n<line x1=\"74.6\" y1=\"459.6\" x2=\"114.6\" y2=\"459.6\" opacity=\"1.0\" stroke=\"rgb(0,0,0)\" stroke-width=\"2.0\" />\n<line x1=\"158.9\" y1=\"274.4\" x2=\"156.1\" y2=\"301.3\" opacity=\"1.0\" stroke=\"rgb(0,0,0)\" stroke-width=\"2.0\" />\n<line x1=\"546.3\" y1=\"274.4\" x2=\"549.1\" y2=\"301.3\" opacity=\"1.0\" stroke=\"rgb(0,0,0)\" stroke-width=\"2.0\" />\n<line x1=\"138.0\" y1=\"446.1\" x2=\"114.6\" y2=\"459.6\" opacity=\"1.0\" stroke=\"rgb(0,0,0)\" stroke-width=\"2.0\" />\n<line x1=\"114.6\" y1=\"432.6\" x2=\"114.6\" y2=\"459.6\" opacity=\"1.0\" stroke=\"rgb(0,0,0)\" stroke-width=\"2.0\" />\n<line x1=\"114.6\" y1=\"459.6\" x2=\"134.6\" y2=\"494.2\" opacity=\"1.0\" stroke=\"rgb(0,0,0)\" stroke-width=\"2.0\" />\n<line x1=\"158.9\" y1=\"110.6\" x2=\"156.1\" y2=\"83.7\" opacity=\"1.0\" stroke=\"rgb(0,0,0)\" stroke-width=\"2.0\" />\n<line x1=\"546.3\" y1=\"110.6\" x2=\"549.1\" y2=\"83.7\" opacity=\"1.0\" stroke=\"rgb(0,0,0)\" stroke-width=\"2.0\" />\n<line x1=\"134.6\" y1=\"494.2\" x2=\"134.6\" y2=\"521.2\" opacity=\"1.0\" stroke=\"rgb(0,0,0)\" stroke-width=\"2.0\" />\n<line x1=\"134.6\" y1=\"494.2\" x2=\"111.3\" y2=\"507.7\" opacity=\"1.0\" stroke=\"rgb(0,0,0)\" stroke-width=\"2.0\" />\n<line x1=\"134.6\" y1=\"494.2\" x2=\"174.6\" y2=\"494.2\" opacity=\"1.0\" stroke=\"rgb(0,0,0)\" stroke-width=\"2.0\" />\n<line x1=\"198.0\" y1=\"507.7\" x2=\"174.6\" y2=\"494.2\" opacity=\"1.0\" stroke=\"rgb(0,0,0)\" stroke-width=\"2.0\" />\n<line x1=\"174.6\" y1=\"521.2\" x2=\"174.6\" y2=\"494.2\" opacity=\"1.0\" stroke=\"rgb(0,0,0)\" stroke-width=\"2.0\" />\n<line x1=\"604.8\" y1=\"262.7\" x2=\"612.1\" y2=\"288.8\" opacity=\"1.0\" stroke=\"rgb(0,0,0)\" stroke-width=\"2.0\" />\n<line x1=\"100.4\" y1=\"262.7\" x2=\"93.1\" y2=\"288.8\" opacity=\"1.0\" stroke=\"rgb(0,0,0)\" stroke-width=\"2.0\" />\n<line x1=\"174.6\" y1=\"494.2\" x2=\"194.6\" y2=\"459.6\" opacity=\"1.0\" stroke=\"rgb(0,0,0)\" stroke-width=\"2.0\" />\n<line x1=\"145.5\" y1=\"169.1\" x2=\"172.4\" y2=\"172.3\" opacity=\"1.0\" stroke=\"rgb(0,0,0)\" stroke-width=\"2.0\" />\n<line x1=\"559.7\" y1=\"169.1\" x2=\"532.9\" y2=\"172.3\" opacity=\"1.0\" stroke=\"rgb(0,0,0)\" stroke-width=\"2.0\" />\n<line x1=\"628.3\" y1=\"242.1\" x2=\"653.2\" y2=\"252.6\" opacity=\"1.0\" stroke=\"rgb(0,0,0)\" stroke-width=\"2.0\" />\n<line x1=\"76.9\" y1=\"242.1\" x2=\"52.0\" y2=\"252.6\" opacity=\"1.0\" stroke=\"rgb(0,0,0)\" stroke-width=\"2.0\" />\n<line x1=\"583.3\" y1=\"206.1\" x2=\"569.0\" y2=\"229.1\" opacity=\"1.0\" stroke=\"rgb(0,0,0)\" stroke-width=\"2.0\" />\n<line x1=\"122.0\" y1=\"206.1\" x2=\"136.2\" y2=\"229.1\" opacity=\"1.0\" stroke=\"rgb(0,0,0)\" stroke-width=\"2.0\" />\n<line x1=\"194.6\" y1=\"459.6\" x2=\"218.0\" y2=\"446.1\" opacity=\"1.0\" stroke=\"rgb(0,0,0)\" stroke-width=\"2.0\" />\n<line x1=\"194.6\" y1=\"459.6\" x2=\"218.0\" y2=\"473.1\" opacity=\"1.0\" stroke=\"rgb(0,0,0)\" stroke-width=\"2.0\" />\n<line x1=\"194.6\" y1=\"459.6\" x2=\"174.6\" y2=\"424.9\" opacity=\"1.0\" stroke=\"rgb(0,0,0)\" stroke-width=\"2.0\" />\n<line x1=\"174.6\" y1=\"397.9\" x2=\"174.6\" y2=\"424.9\" opacity=\"1.0\" stroke=\"rgb(0,0,0)\" stroke-width=\"2.0\" />\n<line x1=\"198.0\" y1=\"411.4\" x2=\"174.6\" y2=\"424.9\" opacity=\"1.0\" stroke=\"rgb(0,0,0)\" stroke-width=\"2.0\" />\n<line x1=\"174.6\" y1=\"424.9\" x2=\"147.6\" y2=\"424.9\" opacity=\"1.0\" stroke=\"rgb(0,0,0)\" stroke-width=\"2.0\" />\n<line x1=\"601.4\" y1=\"192.5\" x2=\"577.9\" y2=\"224.9\" opacity=\"1.0\" stroke=\"rgb(0,0,0)\" stroke-width=\"2.0\" />\n<line x1=\"577.9\" y1=\"224.9\" x2=\"539.8\" y2=\"212.5\" opacity=\"1.0\" stroke=\"rgb(0,0,0)\" stroke-width=\"2.0\" />\n<line x1=\"539.8\" y1=\"212.5\" x2=\"539.8\" y2=\"172.4\" opacity=\"1.0\" stroke=\"rgb(0,0,0)\" stroke-width=\"2.0\" />\n<line x1=\"539.8\" y1=\"172.4\" x2=\"577.9\" y2=\"160.1\" opacity=\"1.0\" stroke=\"rgb(0,0,0)\" stroke-width=\"2.0\" />\n<line x1=\"547.7\" y1=\"177.4\" x2=\"574.4\" y2=\"168.8\" opacity=\"1.0\" stroke=\"rgb(0,0,0)\" stroke-width=\"2.0\" />\n<line x1=\"577.9\" y1=\"160.1\" x2=\"601.4\" y2=\"192.5\" opacity=\"1.0\" stroke=\"rgb(0,0,0)\" stroke-width=\"2.0\" />\n<line x1=\"103.8\" y1=\"192.5\" x2=\"127.3\" y2=\"224.9\" opacity=\"1.0\" stroke=\"rgb(0,0,0)\" stroke-width=\"2.0\" />\n<line x1=\"127.3\" y1=\"224.9\" x2=\"165.4\" y2=\"212.5\" opacity=\"1.0\" stroke=\"rgb(0,0,0)\" stroke-width=\"2.0\" />\n<line x1=\"130.8\" y1=\"216.2\" x2=\"157.5\" y2=\"207.5\" opacity=\"1.0\" stroke=\"rgb(0,0,0)\" stroke-width=\"2.0\" />\n<line x1=\"165.4\" y1=\"212.5\" x2=\"165.4\" y2=\"172.4\" opacity=\"1.0\" stroke=\"rgb(0,0,0)\" stroke-width=\"2.0\" />\n<line x1=\"165.4\" y1=\"172.4\" x2=\"127.3\" y2=\"160.1\" opacity=\"1.0\" stroke=\"rgb(0,0,0)\" stroke-width=\"2.0\" />\n<line x1=\"127.3\" y1=\"160.1\" x2=\"103.8\" y2=\"192.5\" opacity=\"1.0\" stroke=\"rgb(0,0,0)\" stroke-width=\"2.0\" />\n<line x1=\"332.6\" y1=\"144.1\" x2=\"312.5\" y2=\"109.4\" opacity=\"1.0\" stroke=\"rgb(0,0,0)\" stroke-width=\"2.0\" />\n<line x1=\"312.5\" y1=\"109.4\" x2=\"332.6\" y2=\"74.7\" opacity=\"1.0\" stroke=\"rgb(0,0,0)\" stroke-width=\"2.0\" />\n<line x1=\"321.8\" y1=\"107.8\" x2=\"335.8\" y2=\"83.5\" opacity=\"1.0\" stroke=\"rgb(0,0,0)\" stroke-width=\"2.0\" />\n<line x1=\"332.6\" y1=\"74.7\" x2=\"372.6\" y2=\"74.7\" opacity=\"1.0\" stroke=\"rgb(0,0,0)\" stroke-width=\"2.0\" />\n<line x1=\"372.6\" y1=\"74.7\" x2=\"392.7\" y2=\"109.4\" opacity=\"1.0\" stroke=\"rgb(0,0,0)\" stroke-width=\"2.0\" />\n<line x1=\"369.4\" y1=\"83.5\" x2=\"383.4\" y2=\"107.8\" opacity=\"1.0\" stroke=\"rgb(0,0,0)\" stroke-width=\"2.0\" />\n<line x1=\"392.7\" y1=\"109.4\" x2=\"372.6\" y2=\"144.1\" opacity=\"1.0\" stroke=\"rgb(0,0,0)\" stroke-width=\"2.0\" />\n<line x1=\"372.6\" y1=\"144.1\" x2=\"332.6\" y2=\"144.1\" opacity=\"1.0\" stroke=\"rgb(0,0,0)\" stroke-width=\"2.0\" />\n<line x1=\"366.6\" y1=\"136.9\" x2=\"338.6\" y2=\"136.9\" opacity=\"1.0\" stroke=\"rgb(0,0,0)\" stroke-width=\"2.0\" />\n<line x1=\"332.6\" y1=\"310.2\" x2=\"312.5\" y2=\"275.5\" opacity=\"1.0\" stroke=\"rgb(0,0,0)\" stroke-width=\"2.0\" />\n<line x1=\"312.5\" y1=\"275.5\" x2=\"332.6\" y2=\"240.8\" opacity=\"1.0\" stroke=\"rgb(0,0,0)\" stroke-width=\"2.0\" />\n<line x1=\"321.8\" y1=\"273.9\" x2=\"335.8\" y2=\"249.6\" opacity=\"1.0\" stroke=\"rgb(0,0,0)\" stroke-width=\"2.0\" />\n<line x1=\"332.6\" y1=\"240.8\" x2=\"372.6\" y2=\"240.8\" opacity=\"1.0\" stroke=\"rgb(0,0,0)\" stroke-width=\"2.0\" />\n<line x1=\"372.6\" y1=\"240.8\" x2=\"392.7\" y2=\"275.5\" opacity=\"1.0\" stroke=\"rgb(0,0,0)\" stroke-width=\"2.0\" />\n<line x1=\"369.4\" y1=\"249.6\" x2=\"383.4\" y2=\"273.9\" opacity=\"1.0\" stroke=\"rgb(0,0,0)\" stroke-width=\"2.0\" />\n<line x1=\"392.7\" y1=\"275.5\" x2=\"372.6\" y2=\"310.2\" opacity=\"1.0\" stroke=\"rgb(0,0,0)\" stroke-width=\"2.0\" />\n<line x1=\"372.6\" y1=\"310.2\" x2=\"332.6\" y2=\"310.2\" opacity=\"1.0\" stroke=\"rgb(0,0,0)\" stroke-width=\"2.0\" />\n<line x1=\"366.6\" y1=\"303.0\" x2=\"338.6\" y2=\"303.0\" opacity=\"1.0\" stroke=\"rgb(0,0,0)\" stroke-width=\"2.0\" />\n<line x1=\"470.4\" y1=\"212.5\" x2=\"435.7\" y2=\"232.5\" opacity=\"1.0\" stroke=\"rgb(0,0,0)\" stroke-width=\"2.0\" />\n<line x1=\"461.6\" y1=\"209.3\" x2=\"437.3\" y2=\"223.3\" opacity=\"1.0\" stroke=\"rgb(0,0,0)\" stroke-width=\"2.0\" />\n<line x1=\"435.7\" y1=\"232.5\" x2=\"401.0\" y2=\"212.5\" opacity=\"1.0\" stroke=\"rgb(0,0,0)\" stroke-width=\"2.0\" />\n<line x1=\"401.0\" y1=\"212.5\" x2=\"401.0\" y2=\"172.4\" opacity=\"1.0\" stroke=\"rgb(0,0,0)\" stroke-width=\"2.0\" />\n<line x1=\"408.2\" y1=\"206.5\" x2=\"408.2\" y2=\"178.4\" opacity=\"1.0\" stroke=\"rgb(0,0,0)\" stroke-width=\"2.0\" />\n<line x1=\"401.0\" y1=\"172.4\" x2=\"435.7\" y2=\"152.4\" opacity=\"1.0\" stroke=\"rgb(0,0,0)\" stroke-width=\"2.0\" />\n<line x1=\"435.7\" y1=\"152.4\" x2=\"470.4\" y2=\"172.4\" opacity=\"1.0\" stroke=\"rgb(0,0,0)\" stroke-width=\"2.0\" />\n<line x1=\"437.3\" y1=\"161.6\" x2=\"461.6\" y2=\"175.7\" opacity=\"1.0\" stroke=\"rgb(0,0,0)\" stroke-width=\"2.0\" />\n<line x1=\"470.4\" y1=\"172.4\" x2=\"470.4\" y2=\"212.5\" opacity=\"1.0\" stroke=\"rgb(0,0,0)\" stroke-width=\"2.0\" />\n<line x1=\"539.8\" y1=\"212.5\" x2=\"505.1\" y2=\"232.5\" opacity=\"1.0\" stroke=\"rgb(0,0,0)\" stroke-width=\"2.0\" />\n<line x1=\"531.0\" y1=\"209.3\" x2=\"506.7\" y2=\"223.3\" opacity=\"1.0\" stroke=\"rgb(0,0,0)\" stroke-width=\"2.0\" />\n<line x1=\"505.1\" y1=\"232.5\" x2=\"470.4\" y2=\"212.5\" opacity=\"1.0\" stroke=\"rgb(0,0,0)\" stroke-width=\"2.0\" />\n<line x1=\"470.4\" y1=\"172.4\" x2=\"505.1\" y2=\"152.4\" opacity=\"1.0\" stroke=\"rgb(0,0,0)\" stroke-width=\"2.0\" />\n<line x1=\"505.1\" y1=\"152.4\" x2=\"539.8\" y2=\"172.4\" opacity=\"1.0\" stroke=\"rgb(0,0,0)\" stroke-width=\"2.0\" />\n<line x1=\"628.3\" y1=\"242.1\" x2=\"604.8\" y2=\"262.7\" opacity=\"1.0\" stroke=\"rgb(0,0,0)\" stroke-width=\"2.0\" />\n<line x1=\"619.1\" y1=\"240.6\" x2=\"604.6\" y2=\"253.4\" opacity=\"1.0\" stroke=\"rgb(0,0,0)\" stroke-width=\"2.0\" />\n<line x1=\"604.8\" y1=\"262.7\" x2=\"574.0\" y2=\"257.2\" opacity=\"1.0\" stroke=\"rgb(0,0,0)\" stroke-width=\"2.0\" />\n<line x1=\"574.0\" y1=\"257.2\" x2=\"577.9\" y2=\"224.9\" opacity=\"1.0\" stroke=\"rgb(0,0,0)\" stroke-width=\"2.0\" />\n<line x1=\"581.9\" y1=\"252.1\" x2=\"584.3\" y2=\"231.7\" opacity=\"1.0\" stroke=\"rgb(0,0,0)\" stroke-width=\"2.0\" />\n<line x1=\"601.4\" y1=\"192.5\" x2=\"626.8\" y2=\"210.8\" opacity=\"1.0\" stroke=\"rgb(0,0,0)\" stroke-width=\"2.0\" />\n<line x1=\"602.1\" y1=\"201.8\" x2=\"617.7\" y2=\"213.1\" opacity=\"1.0\" stroke=\"rgb(0,0,0)\" stroke-width=\"2.0\" />\n<line x1=\"626.8\" y1=\"210.8\" x2=\"628.3\" y2=\"242.1\" opacity=\"1.0\" stroke=\"rgb(0,0,0)\" stroke-width=\"2.0\" />\n<line x1=\"234.8\" y1=\"212.5\" x2=\"269.5\" y2=\"232.5\" opacity=\"1.0\" stroke=\"rgb(0,0,0)\" stroke-width=\"2.0\" />\n<line x1=\"243.6\" y1=\"209.3\" x2=\"267.9\" y2=\"223.3\" opacity=\"1.0\" stroke=\"rgb(0,0,0)\" stroke-width=\"2.0\" />\n<line x1=\"269.5\" y1=\"232.5\" x2=\"304.2\" y2=\"212.5\" opacity=\"1.0\" stroke=\"rgb(0,0,0)\" stroke-width=\"2.0\" />\n<line x1=\"304.2\" y1=\"212.5\" x2=\"304.2\" y2=\"172.4\" opacity=\"1.0\" stroke=\"rgb(0,0,0)\" stroke-width=\"2.0\" />\n<line x1=\"297.0\" y1=\"206.5\" x2=\"297.0\" y2=\"178.4\" opacity=\"1.0\" stroke=\"rgb(0,0,0)\" stroke-width=\"2.0\" />\n<line x1=\"304.2\" y1=\"172.4\" x2=\"269.5\" y2=\"152.4\" opacity=\"1.0\" stroke=\"rgb(0,0,0)\" stroke-width=\"2.0\" />\n<line x1=\"269.5\" y1=\"152.4\" x2=\"234.8\" y2=\"172.4\" opacity=\"1.0\" stroke=\"rgb(0,0,0)\" stroke-width=\"2.0\" />\n<line x1=\"267.9\" y1=\"161.6\" x2=\"243.6\" y2=\"175.7\" opacity=\"1.0\" stroke=\"rgb(0,0,0)\" stroke-width=\"2.0\" />\n<line x1=\"234.8\" y1=\"172.4\" x2=\"234.8\" y2=\"212.5\" opacity=\"1.0\" stroke=\"rgb(0,0,0)\" stroke-width=\"2.0\" />\n<line x1=\"165.4\" y1=\"212.5\" x2=\"200.1\" y2=\"232.5\" opacity=\"1.0\" stroke=\"rgb(0,0,0)\" stroke-width=\"2.0\" />\n<line x1=\"200.1\" y1=\"232.5\" x2=\"234.8\" y2=\"212.5\" opacity=\"1.0\" stroke=\"rgb(0,0,0)\" stroke-width=\"2.0\" />\n<line x1=\"234.8\" y1=\"172.4\" x2=\"200.1\" y2=\"152.4\" opacity=\"1.0\" stroke=\"rgb(0,0,0)\" stroke-width=\"2.0\" />\n<line x1=\"200.1\" y1=\"152.4\" x2=\"165.4\" y2=\"172.4\" opacity=\"1.0\" stroke=\"rgb(0,0,0)\" stroke-width=\"2.0\" />\n<line x1=\"198.5\" y1=\"161.6\" x2=\"174.2\" y2=\"175.7\" opacity=\"1.0\" stroke=\"rgb(0,0,0)\" stroke-width=\"2.0\" />\n<line x1=\"515.6\" y1=\"263.4\" x2=\"546.3\" y2=\"274.4\" opacity=\"1.0\" stroke=\"rgb(0,0,0)\" stroke-width=\"2.0\" />\n<line x1=\"523.7\" y1=\"258.6\" x2=\"543.1\" y2=\"265.6\" opacity=\"1.0\" stroke=\"rgb(0,0,0)\" stroke-width=\"2.0\" />\n<line x1=\"546.3\" y1=\"274.4\" x2=\"574.0\" y2=\"257.2\" opacity=\"1.0\" stroke=\"rgb(0,0,0)\" stroke-width=\"2.0\" />\n<line x1=\"505.1\" y1=\"232.5\" x2=\"515.6\" y2=\"263.4\" opacity=\"1.0\" stroke=\"rgb(0,0,0)\" stroke-width=\"2.0\" />\n<line x1=\"158.9\" y1=\"274.4\" x2=\"189.6\" y2=\"263.4\" opacity=\"1.0\" stroke=\"rgb(0,0,0)\" stroke-width=\"2.0\" />\n<line x1=\"189.6\" y1=\"263.4\" x2=\"200.1\" y2=\"232.5\" opacity=\"1.0\" stroke=\"rgb(0,0,0)\" stroke-width=\"2.0\" />\n<line x1=\"184.7\" y1=\"255.4\" x2=\"191.4\" y2=\"235.9\" opacity=\"1.0\" stroke=\"rgb(0,0,0)\" stroke-width=\"2.0\" />\n<line x1=\"127.3\" y1=\"224.9\" x2=\"131.2\" y2=\"257.2\" opacity=\"1.0\" stroke=\"rgb(0,0,0)\" stroke-width=\"2.0\" />\n<line x1=\"131.2\" y1=\"257.2\" x2=\"158.9\" y2=\"274.4\" opacity=\"1.0\" stroke=\"rgb(0,0,0)\" stroke-width=\"2.0\" />\n<line x1=\"140.1\" y1=\"254.3\" x2=\"157.6\" y2=\"265.1\" opacity=\"1.0\" stroke=\"rgb(0,0,0)\" stroke-width=\"2.0\" />\n<line x1=\"158.9\" y1=\"110.6\" x2=\"131.2\" y2=\"127.7\" opacity=\"1.0\" stroke=\"rgb(0,0,0)\" stroke-width=\"2.0\" />\n<line x1=\"131.2\" y1=\"127.7\" x2=\"127.3\" y2=\"160.1\" opacity=\"1.0\" stroke=\"rgb(0,0,0)\" stroke-width=\"2.0\" />\n<line x1=\"137.7\" y1=\"134.5\" x2=\"135.2\" y2=\"155.0\" opacity=\"1.0\" stroke=\"rgb(0,0,0)\" stroke-width=\"2.0\" />\n<line x1=\"200.1\" y1=\"152.4\" x2=\"189.6\" y2=\"121.6\" opacity=\"1.0\" stroke=\"rgb(0,0,0)\" stroke-width=\"2.0\" />\n<line x1=\"189.6\" y1=\"121.6\" x2=\"158.9\" y2=\"110.6\" opacity=\"1.0\" stroke=\"rgb(0,0,0)\" stroke-width=\"2.0\" />\n<line x1=\"181.5\" y1=\"126.3\" x2=\"162.2\" y2=\"119.4\" opacity=\"1.0\" stroke=\"rgb(0,0,0)\" stroke-width=\"2.0\" />\n<line x1=\"76.9\" y1=\"242.1\" x2=\"100.4\" y2=\"262.7\" opacity=\"1.0\" stroke=\"rgb(0,0,0)\" stroke-width=\"2.0\" />\n<line x1=\"86.2\" y1=\"240.6\" x2=\"100.7\" y2=\"253.4\" opacity=\"1.0\" stroke=\"rgb(0,0,0)\" stroke-width=\"2.0\" />\n<line x1=\"100.4\" y1=\"262.7\" x2=\"131.2\" y2=\"257.2\" opacity=\"1.0\" stroke=\"rgb(0,0,0)\" stroke-width=\"2.0\" />\n<line x1=\"103.8\" y1=\"192.5\" x2=\"78.4\" y2=\"210.8\" opacity=\"1.0\" stroke=\"rgb(0,0,0)\" stroke-width=\"2.0\" />\n<line x1=\"103.1\" y1=\"201.8\" x2=\"87.5\" y2=\"213.1\" opacity=\"1.0\" stroke=\"rgb(0,0,0)\" stroke-width=\"2.0\" />\n<line x1=\"78.4\" y1=\"210.8\" x2=\"76.9\" y2=\"242.1\" opacity=\"1.0\" stroke=\"rgb(0,0,0)\" stroke-width=\"2.0\" />\n<line x1=\"577.9\" y1=\"160.1\" x2=\"574.0\" y2=\"127.7\" opacity=\"1.0\" stroke=\"rgb(0,0,0)\" stroke-width=\"2.0\" />\n<line x1=\"574.0\" y1=\"127.7\" x2=\"546.3\" y2=\"110.6\" opacity=\"1.0\" stroke=\"rgb(0,0,0)\" stroke-width=\"2.0\" />\n<line x1=\"565.1\" y1=\"130.7\" x2=\"547.6\" y2=\"119.9\" opacity=\"1.0\" stroke=\"rgb(0,0,0)\" stroke-width=\"2.0\" />\n<line x1=\"546.3\" y1=\"110.6\" x2=\"515.6\" y2=\"121.6\" opacity=\"1.0\" stroke=\"rgb(0,0,0)\" stroke-width=\"2.0\" />\n<line x1=\"515.6\" y1=\"121.6\" x2=\"505.1\" y2=\"152.4\" opacity=\"1.0\" stroke=\"rgb(0,0,0)\" stroke-width=\"2.0\" />\n<line x1=\"520.5\" y1=\"129.6\" x2=\"513.8\" y2=\"149.0\" opacity=\"1.0\" stroke=\"rgb(0,0,0)\" stroke-width=\"2.0\" />\n<line x1=\"583.3\" y1=\"206.1\" x2=\"559.7\" y2=\"169.1\" opacity=\"1.0\" stroke=\"rgb(0,0,0)\" stroke-width=\"2.0\" />\n<line x1=\"586.1\" y1=\"197.2\" x2=\"569.0\" y2=\"170.3\" opacity=\"1.0\" stroke=\"rgb(0,0,0)\" stroke-width=\"2.0\" />\n<line x1=\"559.7\" y1=\"169.1\" x2=\"574.0\" y2=\"127.7\" opacity=\"1.0\" stroke=\"rgb(0,0,0)\" stroke-width=\"2.0\" />\n<line x1=\"626.8\" y1=\"210.8\" x2=\"583.3\" y2=\"206.1\" opacity=\"1.0\" stroke=\"rgb(0,0,0)\" stroke-width=\"2.0\" />\n<line x1=\"145.5\" y1=\"169.1\" x2=\"131.2\" y2=\"127.7\" opacity=\"1.0\" stroke=\"rgb(0,0,0)\" stroke-width=\"2.0\" />\n<line x1=\"78.4\" y1=\"210.8\" x2=\"122.0\" y2=\"206.1\" opacity=\"1.0\" stroke=\"rgb(0,0,0)\" stroke-width=\"2.0\" />\n<line x1=\"122.0\" y1=\"206.1\" x2=\"145.5\" y2=\"169.1\" opacity=\"1.0\" stroke=\"rgb(0,0,0)\" stroke-width=\"2.0\" />\n<line x1=\"119.1\" y1=\"197.2\" x2=\"136.2\" y2=\"170.3\" opacity=\"1.0\" stroke=\"rgb(0,0,0)\" stroke-width=\"2.0\" />\n<line x1=\"332.6\" y1=\"240.8\" x2=\"304.2\" y2=\"212.5\" opacity=\"1.0\" stroke=\"rgb(0,0,0)\" stroke-width=\"2.0\" />\n<line x1=\"304.2\" y1=\"172.4\" x2=\"332.6\" y2=\"144.1\" opacity=\"1.0\" stroke=\"rgb(0,0,0)\" stroke-width=\"2.0\" />\n<line x1=\"372.6\" y1=\"144.1\" x2=\"401.0\" y2=\"172.4\" opacity=\"1.0\" stroke=\"rgb(0,0,0)\" stroke-width=\"2.0\" />\n<line x1=\"401.0\" y1=\"212.5\" x2=\"372.6\" y2=\"240.8\" opacity=\"1.0\" stroke=\"rgb(0,0,0)\" stroke-width=\"2.0\" />\n<text x=\"148.748542\" y=\"322.210627\" fill=\"rgb(191,191,191)\" stroke-width=\"0\" font-weight=\"bold\" font-size=\"16\">H</text>\n<text x=\"212.152515\" y=\"299.490881\" fill=\"rgb(191,191,191)\" stroke-width=\"0\" font-weight=\"bold\" font-size=\"16\">H</text>\n<text x=\"212.152515\" y=\"101.447670\" fill=\"rgb(191,191,191)\" stroke-width=\"0\" font-weight=\"bold\" font-size=\"16\">H</text>\n<text x=\"148.748542\" y=\"78.727924\" fill=\"rgb(191,191,191)\" stroke-width=\"0\" font-weight=\"bold\" font-size=\"16\">H</text>\n<text x=\"179.264584\" y=\"181.837360\" fill=\"rgb(191,191,191)\" stroke-width=\"0\" font-weight=\"bold\" font-size=\"16\">H</text>\n<text x=\"137.100006\" y=\"248.155698\" fill=\"rgb(191,191,191)\" stroke-width=\"0\" font-weight=\"bold\" font-size=\"16\">H</text>\n<text x=\"34.000000\" y=\"265.689551\" fill=\"rgb(191,191,191)\" stroke-width=\"0\" font-weight=\"bold\" font-size=\"16\">H</text>\n<text x=\"83.621925\" y=\"309.317995\" fill=\"rgb(191,191,191)\" stroke-width=\"0\" font-weight=\"bold\" font-size=\"16\">H</text>\n<text x=\"609.594638\" y=\"309.317995\" fill=\"rgb(191,191,191)\" stroke-width=\"0\" font-weight=\"bold\" font-size=\"16\">H</text>\n<text x=\"659.216563\" y=\"265.689551\" fill=\"rgb(191,191,191)\" stroke-width=\"0\" font-weight=\"bold\" font-size=\"16\">H</text>\n<text x=\"556.116557\" y=\"248.155698\" fill=\"rgb(191,191,191)\" stroke-width=\"0\" font-weight=\"bold\" font-size=\"16\">H</text>\n<text x=\"513.951979\" y=\"181.837360\" fill=\"rgb(191,191,191)\" stroke-width=\"0\" font-weight=\"bold\" font-size=\"16\">H</text>\n<text x=\"544.468022\" y=\"78.727924\" fill=\"rgb(191,191,191)\" stroke-width=\"0\" font-weight=\"bold\" font-size=\"16\">H</text>\n<text x=\"481.064049\" y=\"101.447670\" fill=\"rgb(191,191,191)\" stroke-width=\"0\" font-weight=\"bold\" font-size=\"16\">H</text>\n<text x=\"481.064049\" y=\"299.490881\" fill=\"rgb(191,191,191)\" stroke-width=\"0\" font-weight=\"bold\" font-size=\"16\">H</text>\n<text x=\"544.468022\" y=\"322.210627\" fill=\"rgb(191,191,191)\" stroke-width=\"0\" font-weight=\"bold\" font-size=\"16\">H</text>\n<text x=\"263.540276\" y=\"120.331592\" fill=\"rgb(191,191,191)\" stroke-width=\"0\" font-weight=\"bold\" font-size=\"16\">H</text>\n<text x=\"263.540276\" y=\"280.606960\" fill=\"rgb(191,191,191)\" stroke-width=\"0\" font-weight=\"bold\" font-size=\"16\">H</text>\n<text x=\"429.676287\" y=\"120.331592\" fill=\"rgb(191,191,191)\" stroke-width=\"0\" font-weight=\"bold\" font-size=\"16\">H</text>\n<text x=\"429.676287\" y=\"280.606960\" fill=\"rgb(191,191,191)\" stroke-width=\"0\" font-weight=\"bold\" font-size=\"16\">H</text>\n<text x=\"226.401756\" y=\"283.537282\" fill=\"rgb(191,191,191)\" stroke-width=\"0\" font-weight=\"bold\" font-size=\"16\">H</text>\n<text x=\"306.539440\" y=\"352.938551\" fill=\"rgb(191,191,191)\" stroke-width=\"0\" font-weight=\"bold\" font-size=\"16\">H</text>\n<text x=\"386.677124\" y=\"352.938551\" fill=\"rgb(191,191,191)\" stroke-width=\"0\" font-weight=\"bold\" font-size=\"16\">H</text>\n<text x=\"466.814807\" y=\"283.537282\" fill=\"rgb(191,191,191)\" stroke-width=\"0\" font-weight=\"bold\" font-size=\"16\">H</text>\n<text x=\"226.401756\" y=\"117.401270\" fill=\"rgb(191,191,191)\" stroke-width=\"0\" font-weight=\"bold\" font-size=\"16\">H</text>\n<text x=\"306.539440\" y=\"48.000000\" fill=\"rgb(191,191,191)\" stroke-width=\"0\" font-weight=\"bold\" font-size=\"16\">H</text>\n<text x=\"386.677124\" y=\"48.000000\" fill=\"rgb(191,191,191)\" stroke-width=\"0\" font-weight=\"bold\" font-size=\"16\">H</text>\n<text x=\"466.814807\" y=\"117.401270\" fill=\"rgb(191,191,191)\" stroke-width=\"0\" font-weight=\"bold\" font-size=\"16\">H</text>\n<text x=\"143.282032\" y=\"447.579568\" fill=\"rgb(191,191,191)\" stroke-width=\"0\" font-weight=\"bold\" font-size=\"16\">H</text>\n<text x=\"108.641016\" y=\"427.579568\" fill=\"rgb(191,191,191)\" stroke-width=\"0\" font-weight=\"bold\" font-size=\"16\">H</text>\n<text x=\"34.000000\" y=\"487.579568\" fill=\"rgb(191,191,191)\" stroke-width=\"0\" font-weight=\"bold\" font-size=\"16\">H</text>\n<text x=\"48.641016\" y=\"432.938551\" fill=\"rgb(191,191,191)\" stroke-width=\"0\" font-weight=\"bold\" font-size=\"16\">H</text>\n<text x=\"68.641016\" y=\"507.579568\" fill=\"rgb(191,191,191)\" stroke-width=\"0\" font-weight=\"bold\" font-size=\"16\">H</text>\n<text x=\"128.641016\" y=\"542.220584\" fill=\"rgb(191,191,191)\" stroke-width=\"0\" font-weight=\"bold\" font-size=\"16\">H</text>\n<text x=\"94.000000\" y=\"522.220584\" fill=\"rgb(191,191,191)\" stroke-width=\"0\" font-weight=\"bold\" font-size=\"16\">H</text>\n<text x=\"203.282032\" y=\"522.220584\" fill=\"rgb(191,191,191)\" stroke-width=\"0\" font-weight=\"bold\" font-size=\"16\">H</text>\n<text x=\"168.641016\" y=\"542.220584\" fill=\"rgb(191,191,191)\" stroke-width=\"0\" font-weight=\"bold\" font-size=\"16\">H</text>\n<text x=\"223.282032\" y=\"447.579568\" fill=\"rgb(191,191,191)\" stroke-width=\"0\" font-weight=\"bold\" font-size=\"16\">H</text>\n<text x=\"223.282032\" y=\"487.579568\" fill=\"rgb(191,191,191)\" stroke-width=\"0\" font-weight=\"bold\" font-size=\"16\">H</text>\n<text x=\"168.641016\" y=\"392.938551\" fill=\"rgb(191,191,191)\" stroke-width=\"0\" font-weight=\"bold\" font-size=\"16\">H</text>\n<text x=\"203.282032\" y=\"412.938551\" fill=\"rgb(191,191,191)\" stroke-width=\"0\" font-weight=\"bold\" font-size=\"16\">H</text>\n<text x=\"128.641016\" y=\"432.938551\" fill=\"rgb(191,191,191)\" stroke-width=\"0\" font-weight=\"bold\" font-size=\"16\">H</text>\n</svg>\n",
      "text/plain": [
       "<openbabel.pybel.Molecule at 0x7f7ba7084fa0>"
      ]
     },
     "execution_count": 6,
     "metadata": {},
     "output_type": "execute_result"
    }
   ],
   "source": [
    "mol"
   ]
  },
  {
   "cell_type": "code",
   "execution_count": 7,
   "metadata": {},
   "outputs": [
    {
     "name": "stdout",
     "output_type": "stream",
     "text": [
      "c1c2-c3cc4c(cc3-c3c(-c5c(-c2ccc1)cc1c(c5)c2c5c6c1ccc1c6c6c5c(ccc6cc1)cc2)cccc3)c1c2c3c4ccc4c3c3c2c(cc1)ccc3cc4.CCCCCC\n"
     ]
    }
   ],
   "source": [
    "smi = mol.write(format=\"smi\")\n",
    "smi = smi.split()[0].strip()\n",
    "print(smi)"
   ]
  },
  {
   "cell_type": "code",
   "execution_count": 8,
   "metadata": {},
   "outputs": [],
   "source": [
    "mol1 = Chem.MolFromPDBBlock(mol.write(format=\"pdb\"))"
   ]
  },
  {
   "cell_type": "code",
   "execution_count": 9,
   "metadata": {},
   "outputs": [],
   "source": [
    "mol2 = Chem.MolFromMolBlock(mol.write(format=\"mol\"))"
   ]
  },
  {
   "cell_type": "code",
   "execution_count": 10,
   "metadata": {},
   "outputs": [
    {
     "data": {
      "image/png": "[encoded data removed]",
      "text/plain": [
       "<rdkit.Chem.rdchem.Mol at 0x7f7ba70876c0>"
      ]
     },
     "execution_count": 10,
     "metadata": {},
     "output_type": "execute_result"
    }
   ],
   "source": [
    "mol2"
   ]
  },
  {
   "cell_type": "code",
   "execution_count": 11,
   "metadata": {},
   "outputs": [
    {
     "data": {
      "image/png": "[encoded data removed]",
      "text/plain": [
       "<rdkit.Chem.rdchem.Mol at 0x7f7ba73a42b0>"
      ]
     },
     "execution_count": 11,
     "metadata": {},
     "output_type": "execute_result"
    }
   ],
   "source": [
    "mol1"
   ]
  },
  {
   "cell_type": "code",
   "execution_count": 12,
   "metadata": {},
   "outputs": [
    {
     "data": {
      "text/plain": [
       "(66, 3)"
      ]
     },
     "execution_count": 12,
     "metadata": {},
     "output_type": "execute_result"
    }
   ],
   "source": [
    "mol1.GetConformers()[0].GetPositions().shape"
   ]
  },
  {
   "cell_type": "code",
   "execution_count": 16,
   "metadata": {},
   "outputs": [
    {
     "name": "stdout",
     "output_type": "stream",
     "text": [
      "(66, 66)\n"
     ]
    }
   ],
   "source": [
    "adj = Chem.GetAdjacencyMatrix(mol1)\n",
    "print(adj.shape)"
   ]
  },
  {
   "cell_type": "code",
   "execution_count": 18,
   "metadata": {},
   "outputs": [
    {
     "data": {
      "image/png": "[encoded data removed]",
      "text/plain": [
       "<Figure size 432x288 with 2 Axes>"
      ]
     },
     "metadata": {
      "needs_background": "light"
     },
     "output_type": "display_data"
    }
   ],
   "source": [
    "plt.imshow(adj)\n",
    "plt.colorbar()\n",
    "plt.show()"
   ]
  },
  {
   "cell_type": "code",
   "execution_count": 19,
   "metadata": {},
   "outputs": [
    {
     "data": {
      "text/plain": [
       "((0,\n",
       "  1,\n",
       "  2,\n",
       "  3,\n",
       "  4,\n",
       "  5,\n",
       "  6,\n",
       "  7,\n",
       "  8,\n",
       "  9,\n",
       "  10,\n",
       "  11,\n",
       "  12,\n",
       "  13,\n",
       "  14,\n",
       "  15,\n",
       "  16,\n",
       "  17,\n",
       "  18,\n",
       "  19,\n",
       "  20,\n",
       "  21,\n",
       "  22,\n",
       "  23,\n",
       "  24,\n",
       "  25,\n",
       "  26,\n",
       "  27,\n",
       "  28,\n",
       "  29,\n",
       "  30,\n",
       "  31,\n",
       "  32,\n",
       "  33,\n",
       "  34,\n",
       "  35,\n",
       "  36,\n",
       "  37,\n",
       "  38,\n",
       "  39,\n",
       "  40,\n",
       "  41,\n",
       "  42,\n",
       "  43,\n",
       "  44,\n",
       "  45,\n",
       "  46,\n",
       "  47,\n",
       "  48,\n",
       "  49,\n",
       "  50,\n",
       "  51,\n",
       "  52,\n",
       "  53,\n",
       "  54,\n",
       "  55,\n",
       "  56,\n",
       "  57,\n",
       "  58,\n",
       "  59),\n",
       " (60, 61, 62, 63, 64, 65))"
      ]
     },
     "execution_count": 19,
     "metadata": {},
     "output_type": "execute_result"
    }
   ],
   "source": [
    "Chem.GetMolFrags(mol1)"
   ]
  },
  {
   "cell_type": "code",
   "execution_count": 20,
   "metadata": {},
   "outputs": [
    {
     "data": {
      "application/vnd.jupyter.widget-view+json": {
       "model_id": "299f936b0648481f9adad9454b691361",
       "version_major": 2,
       "version_minor": 0
      },
      "text/plain": []
     },
     "metadata": {},
     "output_type": "display_data"
    }
   ],
   "source": [
    "import nglview"
   ]
  },
  {
   "cell_type": "code",
   "execution_count": 21,
   "metadata": {},
   "outputs": [
    {
     "data": {
      "application/vnd.jupyter.widget-view+json": {
       "model_id": "2878a0d95680429fa26f8dfb5505b979",
       "version_major": 2,
       "version_minor": 0
      },
      "text/plain": [
       "NGLWidget()"
      ]
     },
     "metadata": {},
     "output_type": "display_data"
    }
   ],
   "source": [
    "nglview.show_rdkit(mol1)"
   ]
  },
  {
   "cell_type": "code",
   "execution_count": null,
   "metadata": {},
   "outputs": [],
   "source": []
  }
 ],
 "metadata": {
  "kernelspec": {
   "display_name": "e3moldiffusion",
   "language": "python",
   "name": "python3"
  },
  "language_info": {
   "codemirror_mode": {
    "name": "ipython",
    "version": 3
   },
   "file_extension": ".py",
   "mimetype": "text/x-python",
   "name": "python",
   "nbconvert_exporter": "python",
   "pygments_lexer": "ipython3",
   "version": "3.9.0"
  },
  "orig_nbformat": 4
 },
 "nbformat": 4,
 "nbformat_minor": 2
}
