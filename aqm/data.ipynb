{
 "cells": [
  {
   "cell_type": "code",
   "execution_count": 57,
   "id": "d5c653f1-64e6-43a2-835b-7ff356b27439",
   "metadata": {},
   "outputs": [
    {
     "name": "stderr",
     "output_type": "stream",
     "text": [
      "Molecules:  11%|██████▌                                                       | 177/1673 [00:09<01:20, 18.65it/s]\n"
     ]
    },
    {
     "ename": "KeyboardInterrupt",
     "evalue": "",
     "output_type": "error",
     "traceback": [
      "\u001b[0;31m---------------------------------------------------------------------------\u001b[0m",
      "\u001b[0;31mKeyboardInterrupt\u001b[0m                         Traceback (most recent call last)",
      "Cell \u001b[0;32mIn[57], line 82\u001b[0m\n\u001b[1;32m     79\u001b[0m     atom_types_dist[a_t]\n\u001b[1;32m     81\u001b[0m \u001b[38;5;28;01mfor\u001b[39;00m prop \u001b[38;5;129;01min\u001b[39;00m properties_list:\n\u001b[0;32m---> 82\u001b[0m     tmp \u001b[38;5;241m=\u001b[39m pt\u001b[38;5;241m.\u001b[39mtensor(np\u001b[38;5;241m.\u001b[39marray(\u001b[43mgroup\u001b[49m\u001b[43m[\u001b[49m\u001b[43mprop\u001b[49m\u001b[43m]\u001b[49m), dtype\u001b[38;5;241m=\u001b[39mpt\u001b[38;5;241m.\u001b[39mfloat32)\n\u001b[1;32m     83\u001b[0m     all_prop\u001b[38;5;241m.\u001b[39mappend(tmp)\n\u001b[1;32m     84\u001b[0m y \u001b[38;5;241m=\u001b[39m pt\u001b[38;5;241m.\u001b[39mcat(all_prop)\u001b[38;5;241m.\u001b[39munsqueeze(\u001b[38;5;241m0\u001b[39m)\n",
      "File \u001b[0;32mh5py/_objects.pyx:54\u001b[0m, in \u001b[0;36mh5py._objects.with_phil.wrapper\u001b[0;34m()\u001b[0m\n",
      "File \u001b[0;32mh5py/_objects.pyx:55\u001b[0m, in \u001b[0;36mh5py._objects.with_phil.wrapper\u001b[0;34m()\u001b[0m\n",
      "File \u001b[0;32m~/opt/anaconda3/envs/e3mol/lib/python3.9/site-packages/h5py/_hl/group.py:366\u001b[0m, in \u001b[0;36mGroup.__getitem__\u001b[0;34m(self, name)\u001b[0m\n\u001b[1;32m    364\u001b[0m     \u001b[38;5;28;01mreturn\u001b[39;00m Group(oid)\n\u001b[1;32m    365\u001b[0m \u001b[38;5;28;01melif\u001b[39;00m otype \u001b[38;5;241m==\u001b[39m h5i\u001b[38;5;241m.\u001b[39mDATASET:\n\u001b[0;32m--> 366\u001b[0m     \u001b[38;5;28;01mreturn\u001b[39;00m dataset\u001b[38;5;241m.\u001b[39mDataset(oid, readonly\u001b[38;5;241m=\u001b[39m(\u001b[38;5;28;43mself\u001b[39;49m\u001b[38;5;241;43m.\u001b[39;49m\u001b[43mfile\u001b[49m\u001b[38;5;241m.\u001b[39mmode \u001b[38;5;241m==\u001b[39m \u001b[38;5;124m'\u001b[39m\u001b[38;5;124mr\u001b[39m\u001b[38;5;124m'\u001b[39m))\n\u001b[1;32m    367\u001b[0m \u001b[38;5;28;01melif\u001b[39;00m otype \u001b[38;5;241m==\u001b[39m h5i\u001b[38;5;241m.\u001b[39mDATATYPE:\n\u001b[1;32m    368\u001b[0m     \u001b[38;5;28;01mreturn\u001b[39;00m datatype\u001b[38;5;241m.\u001b[39mDatatype(oid)\n",
      "File \u001b[0;32m~/opt/anaconda3/envs/e3mol/lib/python3.9/site-packages/h5py/_hl/base.py:285\u001b[0m, in \u001b[0;36mHLObject.file\u001b[0;34m(self)\u001b[0m\n\u001b[1;32m    283\u001b[0m \u001b[38;5;28;01mfrom\u001b[39;00m \u001b[38;5;21;01m.\u001b[39;00m \u001b[38;5;28;01mimport\u001b[39;00m files\n\u001b[1;32m    284\u001b[0m \u001b[38;5;28;01mwith\u001b[39;00m phil:\n\u001b[0;32m--> 285\u001b[0m     \u001b[38;5;28;01mreturn\u001b[39;00m \u001b[43mfiles\u001b[49m\u001b[38;5;241;43m.\u001b[39;49m\u001b[43mFile\u001b[49m\u001b[43m(\u001b[49m\u001b[38;5;28;43mself\u001b[39;49m\u001b[38;5;241;43m.\u001b[39;49m\u001b[43mid\u001b[49m\u001b[43m)\u001b[49m\n",
      "File \u001b[0;32m~/opt/anaconda3/envs/e3mol/lib/python3.9/site-packages/h5py/_hl/files.py:574\u001b[0m, in \u001b[0;36mFile.__init__\u001b[0;34m(self, name, mode, driver, libver, userblock_size, swmr, rdcc_nslots, rdcc_nbytes, rdcc_w0, track_order, fs_strategy, fs_persist, fs_threshold, fs_page_size, page_buf_size, min_meta_keep, min_raw_keep, locking, alignment_threshold, alignment_interval, meta_block_size, **kwds)\u001b[0m\n\u001b[1;32m    571\u001b[0m     \u001b[38;5;28;01melse\u001b[39;00m:\n\u001b[1;32m    572\u001b[0m         \u001b[38;5;28mself\u001b[39m\u001b[38;5;241m.\u001b[39m_libver \u001b[38;5;241m=\u001b[39m (libver, \u001b[38;5;124m'\u001b[39m\u001b[38;5;124mlatest\u001b[39m\u001b[38;5;124m'\u001b[39m)\n\u001b[0;32m--> 574\u001b[0m \u001b[38;5;28;43msuper\u001b[39;49m\u001b[43m(\u001b[49m\u001b[43m)\u001b[49m\u001b[38;5;241;43m.\u001b[39;49m\u001b[38;5;21;43m__init__\u001b[39;49m\u001b[43m(\u001b[49m\u001b[43mfid\u001b[49m\u001b[43m)\u001b[49m\n",
      "File \u001b[0;32m~/opt/anaconda3/envs/e3mol/lib/python3.9/site-packages/h5py/_hl/group.py:40\u001b[0m, in \u001b[0;36mGroup.__init__\u001b[0;34m(self, bind)\u001b[0m\n\u001b[1;32m     38\u001b[0m \u001b[38;5;28;01mif\u001b[39;00m \u001b[38;5;129;01mnot\u001b[39;00m \u001b[38;5;28misinstance\u001b[39m(bind, h5g\u001b[38;5;241m.\u001b[39mGroupID):\n\u001b[1;32m     39\u001b[0m     \u001b[38;5;28;01mraise\u001b[39;00m \u001b[38;5;167;01mValueError\u001b[39;00m(\u001b[38;5;124m\"\u001b[39m\u001b[38;5;132;01m%s\u001b[39;00m\u001b[38;5;124m is not a GroupID\u001b[39m\u001b[38;5;124m\"\u001b[39m \u001b[38;5;241m%\u001b[39m bind)\n\u001b[0;32m---> 40\u001b[0m \u001b[38;5;28;43msuper\u001b[39;49m\u001b[43m(\u001b[49m\u001b[43m)\u001b[49m\u001b[38;5;241m.\u001b[39m\u001b[38;5;21m__init__\u001b[39m(bind)\n",
      "\u001b[0;31mKeyboardInterrupt\u001b[0m: "
     ]
    }
   ],
   "source": [
    "import hashlib\n",
    "import h5py\n",
    "import numpy as np\n",
    "import os\n",
    "import torch as pt\n",
    "import torch\n",
    "from torch_geometric.data import Data, Dataset, download_url\n",
    "from tqdm import tqdm\n",
    "from collections import defaultdict\n",
    "\n",
    "atom_encoder = {\n",
    "    \"H\": 0,\n",
    "    \"Li\": 1,\n",
    "    \"Be\": 2,\n",
    "    \"B\": 3,\n",
    "    \"C\": 4,\n",
    "    \"N\": 5,\n",
    "    \"O\": 6,\n",
    "    \"F\": 7,\n",
    "    \"Na\": 8,\n",
    "    \"Mg\": 9,\n",
    "    \"Al\": 10,\n",
    "    \"Si\": 11,\n",
    "    \"P\": 12,\n",
    "    \"S\": 13,\n",
    "    \"Cl\": 14\n",
    "}\n",
    "atomic_nb = [\n",
    "    1,\n",
    "    3,\n",
    "    4,\n",
    "    5,\n",
    "    6,\n",
    "    7,\n",
    "    8,\n",
    "    9,\n",
    "    11,\n",
    "    12,\n",
    "    13,\n",
    "    14,\n",
    "    15,\n",
    "    16,\n",
    "    17,\n",
    "]\n",
    "atom_decoder = {i: k for i, k in zip(atomic_nb, atom_encoder)}\n",
    "\n",
    "properties_list = ['DIP', 'HLgap', 'eAT', 'eC', 'eEE', 'eH', 'eKIN', 'eKSE', 'eL',\n",
    "                   'eNE', 'eNN', 'ePBE0+MBD', 'eTS', 'eX', 'eXC', 'eXX', 'mPOL']\n",
    "\n",
    "path = \"/Users/juliancremer/Documents/e3mol_local/aqm/aqm_data/raw/AQMdat.hdf5\"\n",
    "\n",
    "atom_types = []\n",
    "atomic_numbers = []\n",
    "atomic_types_dict = defaultdict(int)\n",
    "atomic_numbers_dict = defaultdict(int)\n",
    "n_nodes_dict = defaultdict(int)\n",
    "atom_types_dist = defaultdict(int)\n",
    "max_n_nodes = 0\n",
    "\n",
    "for mol in tqdm(h5py.File(path).values(), desc=\"Molecules\"):\n",
    "    for group_name in mol:\n",
    "        group = mol[group_name]\n",
    "\n",
    "        all_prop = []\n",
    "        z = pt.tensor(np.array(group[\"atNUM\"]), dtype=pt.long)\n",
    "        n_nodes_dict[len(z)] += 1\n",
    "        \n",
    "        for a_n in z:\n",
    "            if int(a_n) not in atomic_numbers:\n",
    "                atomic_numbers.append(int(a_n))\n",
    "            atomic_numbers_dict[int(a_n)] += 1   \n",
    "            \n",
    "            max_n_nodes = len(z) if len(z) > max_n_nodes else max_n_nodes\n",
    "                \n",
    "            a_t = atom_decoder[int(a_n)]\n",
    "            if a_t not in atom_types:\n",
    "                atom_types.append(a_t)\n",
    "            atomic_types_dict[a_t] += 1\n",
    "            atom_types_dist[a_t]\n",
    "        \n",
    "        for prop in properties_list:\n",
    "            tmp = pt.tensor(np.array(group[prop]), dtype=pt.float32)\n",
    "            all_prop.append(tmp)\n",
    "        y = pt.cat(all_prop).unsqueeze(0)\n",
    "        \n"
   ]
  },
  {
   "cell_type": "code",
   "execution_count": 55,
   "id": "a78a835f-b10d-49d2-ac86-55f73ac4a4b9",
   "metadata": {},
   "outputs": [
    {
     "data": {
      "text/plain": [
       "<HDF5 file \"AQMdat.hdf5\" (mode r)>"
      ]
     },
     "execution_count": 55,
     "metadata": {},
     "output_type": "execute_result"
    }
   ],
   "source": [
    "path = \"/Users/juliancremer/Documents/e3mol_local/aqm/aqm_data/raw/AQMdat.hdf5\"\n",
    "\n",
    "h5py.File(path)"
   ]
  },
  {
   "cell_type": "code",
   "execution_count": 52,
   "id": "bbbc4733-f6d4-4594-bf5a-fb2a9a2b532d",
   "metadata": {},
   "outputs": [
    {
     "data": {
      "text/plain": [
       "array([6.469295])"
      ]
     },
     "execution_count": 52,
     "metadata": {},
     "output_type": "execute_result"
    }
   ],
   "source": [
    "np.array(group['HLgap'])"
   ]
  },
  {
   "cell_type": "code",
   "execution_count": 50,
   "id": "54a6bb36-f325-4502-a5da-c531ac3e0df7",
   "metadata": {},
   "outputs": [
    {
     "data": {
      "text/plain": [
       "<KeysViewHDF5 ['DIP', 'HLgap', 'KSE', 'atC6', 'atNUM', 'atPOL', 'atXYZ', 'eAT', 'eC', 'eEE', 'eH', 'eKIN', 'eKSE', 'eL', 'eMBD', 'eNE', 'eNELEC', 'eNN', 'ePBE0', 'ePBE0+MBD', 'eSOLV', 'eTS', 'eX', 'eXC', 'eXX', 'hCHG', 'hDIP', 'hRAT', 'hVDIP', 'hVOL', 'mC6', 'mPOL', 'mTPOL', 'pbe0FOR', 'sCAV', 'sMIT', 'totFOR', 'vCAV', 'vDIP', 'vEQ', 'vIQ', 'vTQ', 'vdwFOR', 'vdwR']>"
      ]
     },
     "execution_count": 50,
     "metadata": {},
     "output_type": "execute_result"
    }
   ],
   "source": [
    "group.keys()"
   ]
  },
  {
   "cell_type": "code",
   "execution_count": 33,
   "id": "1fab79af-4a96-4a34-b263-c857d42b3ac3",
   "metadata": {},
   "outputs": [
    {
     "data": {
      "text/plain": [
       "50.88283369675583"
      ]
     },
     "execution_count": 33,
     "metadata": {},
     "output_type": "execute_result"
    }
   ],
   "source": [
    "rate = np.array(list(n_nodes_dict.keys()))\n",
    "amount = np.array(list(n_nodes_dict.values()))\n",
    "weighted_avg = np.average(rate, weights=amount)\n",
    "weighted_avg"
   ]
  },
  {
   "cell_type": "code",
   "execution_count": 32,
   "id": "5db5d7cc-06df-434e-9517-cdff46c0af94",
   "metadata": {},
   "outputs": [
    {
     "data": {
      "text/plain": [
       "<BarContainer object of 85 artists>"
      ]
     },
     "execution_count": 32,
     "metadata": {},
     "output_type": "execute_result"
    },
    {
     "data": {
      "image/png": "[encoded data removed]",
      "text/plain": [
       "<Figure size 640x480 with 1 Axes>"
      ]
     },
     "metadata": {},
     "output_type": "display_data"
    }
   ],
   "source": [
    "import matplotlib.pyplot as plt\n",
    "names = list(n_nodes_dict.keys())\n",
    "values = list(n_nodes_dict.values())\n",
    "\n",
    "plt.bar(range(len(n_nodes_dict)), values)"
   ]
  },
  {
   "cell_type": "code",
   "execution_count": 58,
   "id": "1e7ea6ff-32fa-4f12-892b-63910167a513",
   "metadata": {},
   "outputs": [
    {
     "data": {
      "text/plain": [
       "{'DIP': 0,\n",
       " 'HLgap': 1,\n",
       " 'eAT': 2,\n",
       " 'eC': 3,\n",
       " 'eEE': 4,\n",
       " 'eH': 5,\n",
       " 'eKIN': 6,\n",
       " 'eKSE': 7,\n",
       " 'eL': 8,\n",
       " 'eNE': 9,\n",
       " 'eNN': 10,\n",
       " 'ePBE0+MBD': 11,\n",
       " 'eTS': 12,\n",
       " 'eX': 13,\n",
       " 'eXC': 14,\n",
       " 'eXX': 15,\n",
       " 'mPOL': 16}"
      ]
     },
     "execution_count": 58,
     "metadata": {},
     "output_type": "execute_result"
    }
   ],
   "source": [
    "mol_properties = ['DIP', 'HLgap', 'eAT', 'eC', 'eEE', 'eH', 'eKIN', 'eKSE', 'eL',\n",
    "                   'eNE', 'eNN', 'ePBE0+MBD', 'eTS', 'eX', 'eXC', 'eXX', 'mPOL']\n",
    "\n",
    "PROP_TO_IDX = {k: i for i, k in enumerate(mol_properties)}\n",
    "PROP_TO_IDX"
   ]
  },
  {
   "cell_type": "code",
   "execution_count": null,
   "id": "4120881a-8c0d-4e8a-9849-67a790428459",
   "metadata": {},
   "outputs": [],
   "source": []
  }
 ],
 "metadata": {
  "kernelspec": {
   "display_name": "Python 3 (ipykernel)",
   "language": "python",
   "name": "python3"
  },
  "language_info": {
   "codemirror_mode": {
    "name": "ipython",
    "version": 3
   },
   "file_extension": ".py",
   "mimetype": "text/x-python",
   "name": "python",
   "nbconvert_exporter": "python",
   "pygments_lexer": "ipython3",
   "version": "3.9.0"
  }
 },
 "nbformat": 4,
 "nbformat_minor": 5
}
