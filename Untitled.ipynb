{
 "cells": [
  {
   "cell_type": "code",
   "execution_count": null,
   "id": "a6712ce6-aa5b-4565-b64e-3ba2c12c31c4",
   "metadata": {},
   "outputs": [],
   "source": [
    "import pickle\n",
    "\n",
    "path = \"/Users/juliancremer/Documents/sampled_mols/stable_molecules.pickle\"\n",
    "\n",
    "with open(path, 'rb') as f:\n",
    "    mols = pickle.load(f)"
   ]
  },
  {
   "cell_type": "code",
   "execution_count": null,
   "id": "ff796dfd-e75c-4008-9173-7b1207661f99",
   "metadata": {},
   "outputs": [],
   "source": []
  }
 ],
 "metadata": {
  "kernelspec": {
   "display_name": "Python 3 (ipykernel)",
   "language": "python",
   "name": "python3"
  },
  "language_info": {
   "codemirror_mode": {
    "name": "ipython",
    "version": 3
   },
   "file_extension": ".py",
   "mimetype": "text/x-python",
   "name": "python",
   "nbconvert_exporter": "python",
   "pygments_lexer": "ipython3",
   "version": "3.9.0"
  }
 },
 "nbformat": 4,
 "nbformat_minor": 5
}
