{
 "cells": [
  {
   "cell_type": "code",
   "execution_count": 2,
   "metadata": {},
   "outputs": [
    {
     "data": {
      "text/plain": [
       "-72.32351615254335"
      ]
     },
     "execution_count": 2,
     "metadata": {},
     "output_type": "execute_result"
    }
   ],
   "source": [
    "from ase import Atoms\n",
    "from xtb.ase.calculator import XTB\n",
    "import argparse\n",
    "import torch\n",
    "\n",
    "\n",
    "def calculate_xtb_energy(data):\n",
    "    atoms = Atoms(positions=data[\"pos\"], numbers=data[\"atomic_numbers\"])\n",
    "    atoms.calc = XTB(method=\"GFN2-xTB\")\n",
    "    pot_e = atoms.get_potential_energy()\n",
    "\n",
    "    return pot_e\n",
    "\n",
    "\n",
    "data = {\"pos\": torch.randn(3, 3), \"atomic_numbers\": torch.tensor([1, 6, 1])}\n",
    "calculate_xtb_energy(data)"
   ]
  },
  {
   "cell_type": "code",
   "execution_count": null,
   "metadata": {},
   "outputs": [],
   "source": []
  }
 ],
 "metadata": {
  "kernelspec": {
   "display_name": "e3moldiffusion",
   "language": "python",
   "name": "python3"
  },
  "language_info": {
   "codemirror_mode": {
    "name": "ipython",
    "version": 3
   },
   "file_extension": ".py",
   "mimetype": "text/x-python",
   "name": "python",
   "nbconvert_exporter": "python",
   "pygments_lexer": "ipython3",
   "version": "3.9.0"
  },
  "orig_nbformat": 4,
  "vscode": {
   "interpreter": {
    "hash": "87047a35f40e749c8ac10af25dae3d6d797672e84e4e2d168b2242288f7f32b6"
   }
  }
 },
 "nbformat": 4,
 "nbformat_minor": 2
}
